{
 "cells": [
  {
   "cell_type": "code",
   "execution_count": 3,
   "metadata": {},
   "outputs": [],
   "source": [
    "import numpy as np\n",
    "import pandas as pd\n"
   ]
  },
  {
   "cell_type": "code",
   "execution_count": 17,
   "metadata": {},
   "outputs": [],
   "source": [
    "df = pd.read_csv(\"http://samplecsvs.s3.amazonaws.com/Sacramentorealestatetransactions.csv\")\n",
    "row_count = df.shape[0]\n",
    "avg_sq_ft = np.mean(df['sq__ft'])\n",
    "df_zip_95760 = df['zip'] == 95760\n",
    "df_zip_not_95760 = df['zip'] != 95760\n"
   ]
  },
  {
   "cell_type": "code",
   "execution_count": 50,
   "metadata": {},
   "outputs": [],
   "source": [
    "\n",
    "n = 9\n",
    "array_1d = np.array(range(n))\n",
    "\n",
    "array_reshaped = array_1d.reshape((3, -1))"
   ]
  },
  {
   "cell_type": "code",
   "execution_count": 53,
   "metadata": {},
   "outputs": [
    {
     "data": {
      "text/plain": [
       "array([[1, 0],\n",
       "       [1, 0],\n",
       "       [0, 1],\n",
       "       [0, 1]])"
      ]
     },
     "execution_count": 53,
     "metadata": {},
     "output_type": "execute_result"
    }
   ],
   "source": [
    "n = 2\n",
    "a=np.array(([1,0]*n+[0,1]*n)).reshape(2*n, -1)\n",
    "a\n"
   ]
  },
  {
   "cell_type": "code",
   "execution_count": 48,
   "metadata": {},
   "outputs": [
    {
     "data": {
      "text/plain": [
       "array([[1, 0, 1, 0],\n",
       "       [0, 1, 0, 1]])"
      ]
     },
     "execution_count": 48,
     "metadata": {},
     "output_type": "execute_result"
    }
   ],
   "source": [
    "a"
   ]
  },
  {
   "cell_type": "code",
   "execution_count": 65,
   "metadata": {},
   "outputs": [
    {
     "data": {
      "text/plain": [
       "0    5\n",
       "1    3\n",
       "2    3\n",
       "dtype: int64"
      ]
     },
     "execution_count": 65,
     "metadata": {},
     "output_type": "execute_result"
    }
   ],
   "source": [
    "foo = ['hello', 'bye', 'car']\n",
    "df = pd.Series(np.array(foo)).str.len()\n",
    "df"
   ]
  },
  {
   "cell_type": "code",
   "execution_count": 4,
   "metadata": {},
   "outputs": [
    {
     "name": "stdout",
     "output_type": "stream",
     "text": [
      "<bound method NDFrame.head of                   bpi                                         disclaimer  \\\n",
      "2017-09-01  4950.7238  This data was produced from the CoinDesk Bitco...   \n",
      "2017-09-02  4643.9750  This data was produced from the CoinDesk Bitco...   \n",
      "2017-09-03  4631.6950  This data was produced from the CoinDesk Bitco...   \n",
      "2017-09-04  4319.7213  This data was produced from the CoinDesk Bitco...   \n",
      "2017-09-05  4422.1213  This data was produced from the CoinDesk Bitco...   \n",
      "2017-09-06  4626.7200  This data was produced from the CoinDesk Bitco...   \n",
      "2017-09-07  4638.0975  This data was produced from the CoinDesk Bitco...   \n",
      "2017-09-08  4317.5375  This data was produced from the CoinDesk Bitco...   \n",
      "2017-09-09  4291.8800  This data was produced from the CoinDesk Bitco...   \n",
      "2017-09-10  4191.1750  This data was produced from the CoinDesk Bitco...   \n",
      "2017-09-11  4188.8450  This data was produced from the CoinDesk Bitco...   \n",
      "2017-09-12  4148.2675  This data was produced from the CoinDesk Bitco...   \n",
      "2017-09-13  3874.2588  This data was produced from the CoinDesk Bitco...   \n",
      "2017-09-14  3226.4125  This data was produced from the CoinDesk Bitco...   \n",
      "2017-09-15  3686.9000  This data was produced from the CoinDesk Bitco...   \n",
      "2017-09-16  3678.7375  This data was produced from the CoinDesk Bitco...   \n",
      "2017-09-17  3672.5663  This data was produced from the CoinDesk Bitco...   \n",
      "2017-09-18  4067.0775  This data was produced from the CoinDesk Bitco...   \n",
      "2017-09-19  3896.9988  This data was produced from the CoinDesk Bitco...   \n",
      "2017-09-20  3858.0888  This data was produced from the CoinDesk Bitco...   \n",
      "2017-09-21  3612.6813  This data was produced from the CoinDesk Bitco...   \n",
      "2017-09-22  3603.3088  This data was produced from the CoinDesk Bitco...   \n",
      "2017-09-23  3777.2938  This data was produced from the CoinDesk Bitco...   \n",
      "2017-09-24  3662.1200  This data was produced from the CoinDesk Bitco...   \n",
      "2017-09-25  3927.4988  This data was produced from the CoinDesk Bitco...   \n",
      "2017-09-26  3895.5125  This data was produced from the CoinDesk Bitco...   \n",
      "2017-09-27  4208.5613  This data was produced from the CoinDesk Bitco...   \n",
      "2017-09-28  4185.2925  This data was produced from the CoinDesk Bitco...   \n",
      "2017-09-29  4164.1038  This data was produced from the CoinDesk Bitco...   \n",
      "2017-09-30  4353.0475  This data was produced from the CoinDesk Bitco...   \n",
      "...               ...                                                ...   \n",
      "2018-09-08  6183.3800  This data was produced from the CoinDesk Bitco...   \n",
      "2018-09-09  6238.5400  This data was produced from the CoinDesk Bitco...   \n",
      "2018-09-10  6305.5738  This data was produced from the CoinDesk Bitco...   \n",
      "2018-09-11  6282.9213  This data was produced from the CoinDesk Bitco...   \n",
      "2018-09-12  6328.9300  This data was produced from the CoinDesk Bitco...   \n",
      "2018-09-13  6486.6213  This data was produced from the CoinDesk Bitco...   \n",
      "2018-09-14  6492.3750  This data was produced from the CoinDesk Bitco...   \n",
      "2018-09-15  6515.8988  This data was produced from the CoinDesk Bitco...   \n",
      "2018-09-16  6497.3663  This data was produced from the CoinDesk Bitco...   \n",
      "2018-09-17  6251.1600  This data was produced from the CoinDesk Bitco...   \n",
      "2018-09-18  6334.1963  This data was produced from the CoinDesk Bitco...   \n",
      "2018-09-19  6388.9788  This data was produced from the CoinDesk Bitco...   \n",
      "2018-09-20  6491.6400  This data was produced from the CoinDesk Bitco...   \n",
      "2018-09-21  6753.1800  This data was produced from the CoinDesk Bitco...   \n",
      "2018-09-22  6712.1675  This data was produced from the CoinDesk Bitco...   \n",
      "2018-09-23  6701.2975  This data was produced from the CoinDesk Bitco...   \n",
      "2018-09-24  6581.5100  This data was produced from the CoinDesk Bitco...   \n",
      "2018-09-25  6434.6488  This data was produced from the CoinDesk Bitco...   \n",
      "2018-09-26  6458.6525  This data was produced from the CoinDesk Bitco...   \n",
      "2018-09-27  6684.1313  This data was produced from the CoinDesk Bitco...   \n",
      "2018-09-28  6621.6650  This data was produced from the CoinDesk Bitco...   \n",
      "2018-09-29  6583.7713  This data was produced from the CoinDesk Bitco...   \n",
      "2018-09-30  6606.0850  This data was produced from the CoinDesk Bitco...   \n",
      "2018-10-01  6578.7938  This data was produced from the CoinDesk Bitco...   \n",
      "2018-10-02  6506.6575  This data was produced from the CoinDesk Bitco...   \n",
      "2018-10-03  6470.7138  This data was produced from the CoinDesk Bitco...   \n",
      "2018-10-04  6555.8750  This data was produced from the CoinDesk Bitco...   \n",
      "2018-10-05  6589.4038  This data was produced from the CoinDesk Bitco...   \n",
      "updated           NaN  This data was produced from the CoinDesk Bitco...   \n",
      "updatedISO        NaN  This data was produced from the CoinDesk Bitco...   \n",
      "\n",
      "                                 time  \n",
      "2017-09-01                        NaN  \n",
      "2017-09-02                        NaN  \n",
      "2017-09-03                        NaN  \n",
      "2017-09-04                        NaN  \n",
      "2017-09-05                        NaN  \n",
      "2017-09-06                        NaN  \n",
      "2017-09-07                        NaN  \n",
      "2017-09-08                        NaN  \n",
      "2017-09-09                        NaN  \n",
      "2017-09-10                        NaN  \n",
      "2017-09-11                        NaN  \n",
      "2017-09-12                        NaN  \n",
      "2017-09-13                        NaN  \n",
      "2017-09-14                        NaN  \n",
      "2017-09-15                        NaN  \n",
      "2017-09-16                        NaN  \n",
      "2017-09-17                        NaN  \n",
      "2017-09-18                        NaN  \n",
      "2017-09-19                        NaN  \n",
      "2017-09-20                        NaN  \n",
      "2017-09-21                        NaN  \n",
      "2017-09-22                        NaN  \n",
      "2017-09-23                        NaN  \n",
      "2017-09-24                        NaN  \n",
      "2017-09-25                        NaN  \n",
      "2017-09-26                        NaN  \n",
      "2017-09-27                        NaN  \n",
      "2017-09-28                        NaN  \n",
      "2017-09-29                        NaN  \n",
      "2017-09-30                        NaN  \n",
      "...                               ...  \n",
      "2018-09-08                        NaN  \n",
      "2018-09-09                        NaN  \n",
      "2018-09-10                        NaN  \n",
      "2018-09-11                        NaN  \n",
      "2018-09-12                        NaN  \n",
      "2018-09-13                        NaN  \n",
      "2018-09-14                        NaN  \n",
      "2018-09-15                        NaN  \n",
      "2018-09-16                        NaN  \n",
      "2018-09-17                        NaN  \n",
      "2018-09-18                        NaN  \n",
      "2018-09-19                        NaN  \n",
      "2018-09-20                        NaN  \n",
      "2018-09-21                        NaN  \n",
      "2018-09-22                        NaN  \n",
      "2018-09-23                        NaN  \n",
      "2018-09-24                        NaN  \n",
      "2018-09-25                        NaN  \n",
      "2018-09-26                        NaN  \n",
      "2018-09-27                        NaN  \n",
      "2018-09-28                        NaN  \n",
      "2018-09-29                        NaN  \n",
      "2018-09-30                        NaN  \n",
      "2018-10-01                        NaN  \n",
      "2018-10-02                        NaN  \n",
      "2018-10-03                        NaN  \n",
      "2018-10-04                        NaN  \n",
      "2018-10-05                        NaN  \n",
      "updated      Oct 6, 2018 00:03:00 UTC  \n",
      "updatedISO  2018-10-06T00:03:00+00:00  \n",
      "\n",
      "[402 rows x 3 columns]>\n",
      "<bound method NDFrame.tail of                   bpi                                         disclaimer  \\\n",
      "2017-09-01  4950.7238  This data was produced from the CoinDesk Bitco...   \n",
      "2017-09-02  4643.9750  This data was produced from the CoinDesk Bitco...   \n",
      "2017-09-03  4631.6950  This data was produced from the CoinDesk Bitco...   \n",
      "2017-09-04  4319.7213  This data was produced from the CoinDesk Bitco...   \n",
      "2017-09-05  4422.1213  This data was produced from the CoinDesk Bitco...   \n",
      "2017-09-06  4626.7200  This data was produced from the CoinDesk Bitco...   \n",
      "2017-09-07  4638.0975  This data was produced from the CoinDesk Bitco...   \n",
      "2017-09-08  4317.5375  This data was produced from the CoinDesk Bitco...   \n",
      "2017-09-09  4291.8800  This data was produced from the CoinDesk Bitco...   \n",
      "2017-09-10  4191.1750  This data was produced from the CoinDesk Bitco...   \n",
      "2017-09-11  4188.8450  This data was produced from the CoinDesk Bitco...   \n",
      "2017-09-12  4148.2675  This data was produced from the CoinDesk Bitco...   \n",
      "2017-09-13  3874.2588  This data was produced from the CoinDesk Bitco...   \n",
      "2017-09-14  3226.4125  This data was produced from the CoinDesk Bitco...   \n",
      "2017-09-15  3686.9000  This data was produced from the CoinDesk Bitco...   \n",
      "2017-09-16  3678.7375  This data was produced from the CoinDesk Bitco...   \n",
      "2017-09-17  3672.5663  This data was produced from the CoinDesk Bitco...   \n",
      "2017-09-18  4067.0775  This data was produced from the CoinDesk Bitco...   \n",
      "2017-09-19  3896.9988  This data was produced from the CoinDesk Bitco...   \n",
      "2017-09-20  3858.0888  This data was produced from the CoinDesk Bitco...   \n",
      "2017-09-21  3612.6813  This data was produced from the CoinDesk Bitco...   \n",
      "2017-09-22  3603.3088  This data was produced from the CoinDesk Bitco...   \n",
      "2017-09-23  3777.2938  This data was produced from the CoinDesk Bitco...   \n",
      "2017-09-24  3662.1200  This data was produced from the CoinDesk Bitco...   \n",
      "2017-09-25  3927.4988  This data was produced from the CoinDesk Bitco...   \n",
      "2017-09-26  3895.5125  This data was produced from the CoinDesk Bitco...   \n",
      "2017-09-27  4208.5613  This data was produced from the CoinDesk Bitco...   \n",
      "2017-09-28  4185.2925  This data was produced from the CoinDesk Bitco...   \n",
      "2017-09-29  4164.1038  This data was produced from the CoinDesk Bitco...   \n",
      "2017-09-30  4353.0475  This data was produced from the CoinDesk Bitco...   \n",
      "...               ...                                                ...   \n",
      "2018-09-08  6183.3800  This data was produced from the CoinDesk Bitco...   \n",
      "2018-09-09  6238.5400  This data was produced from the CoinDesk Bitco...   \n",
      "2018-09-10  6305.5738  This data was produced from the CoinDesk Bitco...   \n",
      "2018-09-11  6282.9213  This data was produced from the CoinDesk Bitco...   \n",
      "2018-09-12  6328.9300  This data was produced from the CoinDesk Bitco...   \n",
      "2018-09-13  6486.6213  This data was produced from the CoinDesk Bitco...   \n",
      "2018-09-14  6492.3750  This data was produced from the CoinDesk Bitco...   \n",
      "2018-09-15  6515.8988  This data was produced from the CoinDesk Bitco...   \n",
      "2018-09-16  6497.3663  This data was produced from the CoinDesk Bitco...   \n",
      "2018-09-17  6251.1600  This data was produced from the CoinDesk Bitco...   \n",
      "2018-09-18  6334.1963  This data was produced from the CoinDesk Bitco...   \n",
      "2018-09-19  6388.9788  This data was produced from the CoinDesk Bitco...   \n",
      "2018-09-20  6491.6400  This data was produced from the CoinDesk Bitco...   \n",
      "2018-09-21  6753.1800  This data was produced from the CoinDesk Bitco...   \n",
      "2018-09-22  6712.1675  This data was produced from the CoinDesk Bitco...   \n",
      "2018-09-23  6701.2975  This data was produced from the CoinDesk Bitco...   \n",
      "2018-09-24  6581.5100  This data was produced from the CoinDesk Bitco...   \n",
      "2018-09-25  6434.6488  This data was produced from the CoinDesk Bitco...   \n",
      "2018-09-26  6458.6525  This data was produced from the CoinDesk Bitco...   \n",
      "2018-09-27  6684.1313  This data was produced from the CoinDesk Bitco...   \n",
      "2018-09-28  6621.6650  This data was produced from the CoinDesk Bitco...   \n",
      "2018-09-29  6583.7713  This data was produced from the CoinDesk Bitco...   \n",
      "2018-09-30  6606.0850  This data was produced from the CoinDesk Bitco...   \n",
      "2018-10-01  6578.7938  This data was produced from the CoinDesk Bitco...   \n",
      "2018-10-02  6506.6575  This data was produced from the CoinDesk Bitco...   \n",
      "2018-10-03  6470.7138  This data was produced from the CoinDesk Bitco...   \n",
      "2018-10-04  6555.8750  This data was produced from the CoinDesk Bitco...   \n",
      "2018-10-05  6589.4038  This data was produced from the CoinDesk Bitco...   \n",
      "updated           NaN  This data was produced from the CoinDesk Bitco...   \n",
      "updatedISO        NaN  This data was produced from the CoinDesk Bitco...   \n",
      "\n",
      "                                 time  \n",
      "2017-09-01                        NaN  \n",
      "2017-09-02                        NaN  \n",
      "2017-09-03                        NaN  \n",
      "2017-09-04                        NaN  \n",
      "2017-09-05                        NaN  \n",
      "2017-09-06                        NaN  \n",
      "2017-09-07                        NaN  \n",
      "2017-09-08                        NaN  \n",
      "2017-09-09                        NaN  \n",
      "2017-09-10                        NaN  \n",
      "2017-09-11                        NaN  \n",
      "2017-09-12                        NaN  \n",
      "2017-09-13                        NaN  \n",
      "2017-09-14                        NaN  \n",
      "2017-09-15                        NaN  \n",
      "2017-09-16                        NaN  \n",
      "2017-09-17                        NaN  \n",
      "2017-09-18                        NaN  \n",
      "2017-09-19                        NaN  \n",
      "2017-09-20                        NaN  \n",
      "2017-09-21                        NaN  \n",
      "2017-09-22                        NaN  \n",
      "2017-09-23                        NaN  \n",
      "2017-09-24                        NaN  \n",
      "2017-09-25                        NaN  \n",
      "2017-09-26                        NaN  \n",
      "2017-09-27                        NaN  \n",
      "2017-09-28                        NaN  \n",
      "2017-09-29                        NaN  \n",
      "2017-09-30                        NaN  \n",
      "...                               ...  \n",
      "2018-09-08                        NaN  \n",
      "2018-09-09                        NaN  \n",
      "2018-09-10                        NaN  \n",
      "2018-09-11                        NaN  \n",
      "2018-09-12                        NaN  \n",
      "2018-09-13                        NaN  \n",
      "2018-09-14                        NaN  \n",
      "2018-09-15                        NaN  \n",
      "2018-09-16                        NaN  \n",
      "2018-09-17                        NaN  \n",
      "2018-09-18                        NaN  \n",
      "2018-09-19                        NaN  \n",
      "2018-09-20                        NaN  \n",
      "2018-09-21                        NaN  \n",
      "2018-09-22                        NaN  \n",
      "2018-09-23                        NaN  \n",
      "2018-09-24                        NaN  \n",
      "2018-09-25                        NaN  \n",
      "2018-09-26                        NaN  \n",
      "2018-09-27                        NaN  \n",
      "2018-09-28                        NaN  \n",
      "2018-09-29                        NaN  \n",
      "2018-09-30                        NaN  \n",
      "2018-10-01                        NaN  \n",
      "2018-10-02                        NaN  \n",
      "2018-10-03                        NaN  \n",
      "2018-10-04                        NaN  \n",
      "2018-10-05                        NaN  \n",
      "updated      Oct 6, 2018 00:03:00 UTC  \n",
      "updatedISO  2018-10-06T00:03:00+00:00  \n",
      "\n",
      "[402 rows x 3 columns]>\n"
     ]
    }
   ],
   "source": [
    "    import requests as re\n",
    "    import plotly\n",
    "    \n",
    "    url = 'https://api.coindesk.com/v1/bpi/historical/close.json?start=2017-09-01&end=2018-10-05'\n",
    "    this  = re.get(url)\n",
    "    that = this.json()\n",
    "    df = pd.DataFrame(that)\n",
    "    df = df\n",
    "    df\n",
    "    df.drop('disclaimer', axis=1)\n",
    "    df.drop(df.tail(2).index)\n",
    "    ##plotly\n",
    "    plotly.tools.set_credentials_file(username='meyerscr', api_key='lmb30oiL8bdR27YuGakJ')\n",
    "    data =[plotly.graph_objs.Scatter(x = df.index, y = df['bpi'])]\n",
    "    plotly_url = plotly.plotly.iplot(data)\n",
    "    \n",
    "    print(df.head)\n",
    "    print(df.tail)"
   ]
  },
  {
   "cell_type": "markdown",
   "metadata": {},
   "source": [
    "\n",
    "Use the real estate transaction DataFrame from Exercise 8 and extract into a new DataFrame every 5th row using iloc and just the street address and zip code columns. This can be done with one line of code.\n"
   ]
  },
  {
   "cell_type": "code",
   "execution_count": 3,
   "metadata": {},
   "outputs": [
    {
     "name": "stderr",
     "output_type": "stream",
     "text": [
      "UsageError: %%python is a cell magic, but the cell body is empty.\n"
     ]
    }
   ],
   "source": []
  },
  {
   "cell_type": "code",
   "execution_count": 187,
   "metadata": {},
   "outputs": [],
   "source": [
    "url = 'https://api.coindesk.com/v1/bpi/historical/close.json?start=2017-09-01&end=2018-10-05'\n",
    "this  = re.get(url)\n",
    "that = this.json()\n",
    "df = pd.DataFrame(that)\n",
    "df = df.drop('disclaimer', axis=1)\n",
    "df = df.drop(df.tail(2).index)\n",
    "\n",
    "import plotly.plotly as py\n",
    "import plotly.graph_objs as go\n",
    "\n"
   ]
  },
  {
   "cell_type": "code",
   "execution_count": 161,
   "metadata": {},
   "outputs": [
    {
     "ename": "TypeError",
     "evalue": "'int' object is not iterable",
     "output_type": "error",
     "traceback": [
      "\u001b[0;31m---------------------------------------------------------------------------\u001b[0m",
      "\u001b[0;31mTypeError\u001b[0m                                 Traceback (most recent call last)",
      "\u001b[0;32m<ipython-input-161-acc42d38a033>\u001b[0m in \u001b[0;36m<module>\u001b[0;34m()\u001b[0m\n\u001b[0;32m----> 1\u001b[0;31m \u001b[0mnp\u001b[0m\u001b[0;34m.\u001b[0m\u001b[0mindices\u001b[0m\u001b[0;34m(\u001b[0m\u001b[0;36m2\u001b[0m\u001b[0;34m)\u001b[0m\u001b[0;34m.\u001b[0m\u001b[0msum\u001b[0m\u001b[0;34m(\u001b[0m\u001b[0maxis\u001b[0m\u001b[0;34m=\u001b[0m\u001b[0;36m0\u001b[0m\u001b[0;34m)\u001b[0m \u001b[0;34m%\u001b[0m \u001b[0;36m2\u001b[0m\u001b[0;34m\u001b[0m\u001b[0m\n\u001b[0m",
      "\u001b[0;32m~/anaconda3/lib/python3.6/site-packages/numpy/core/numeric.py\u001b[0m in \u001b[0;36mindices\u001b[0;34m(dimensions, dtype)\u001b[0m\n\u001b[1;32m   1848\u001b[0m \u001b[0;34m\u001b[0m\u001b[0m\n\u001b[1;32m   1849\u001b[0m     \"\"\"\n\u001b[0;32m-> 1850\u001b[0;31m     \u001b[0mdimensions\u001b[0m \u001b[0;34m=\u001b[0m \u001b[0mtuple\u001b[0m\u001b[0;34m(\u001b[0m\u001b[0mdimensions\u001b[0m\u001b[0;34m)\u001b[0m\u001b[0;34m\u001b[0m\u001b[0m\n\u001b[0m\u001b[1;32m   1851\u001b[0m     \u001b[0mN\u001b[0m \u001b[0;34m=\u001b[0m \u001b[0mlen\u001b[0m\u001b[0;34m(\u001b[0m\u001b[0mdimensions\u001b[0m\u001b[0;34m)\u001b[0m\u001b[0;34m\u001b[0m\u001b[0m\n\u001b[1;32m   1852\u001b[0m     \u001b[0mshape\u001b[0m \u001b[0;34m=\u001b[0m \u001b[0;34m(\u001b[0m\u001b[0;36m1\u001b[0m\u001b[0;34m,\u001b[0m\u001b[0;34m)\u001b[0m\u001b[0;34m*\u001b[0m\u001b[0mN\u001b[0m\u001b[0;34m\u001b[0m\u001b[0m\n",
      "\u001b[0;31mTypeError\u001b[0m: 'int' object is not iterable"
     ]
    }
   ],
   "source": [
    "np.indices().sum(axis=0) % 2\n"
   ]
  },
  {
   "cell_type": "code",
   "execution_count": null,
   "metadata": {},
   "outputs": [],
   "source": []
  }
 ],
 "metadata": {
  "kernelspec": {
   "display_name": "Python 3",
   "language": "python",
   "name": "python3"
  },
  "language_info": {
   "codemirror_mode": {
    "name": "ipython",
    "version": 3
   },
   "file_extension": ".py",
   "mimetype": "text/x-python",
   "name": "python",
   "nbconvert_exporter": "python",
   "pygments_lexer": "ipython3",
   "version": "3.6.5"
  }
 },
 "nbformat": 4,
 "nbformat_minor": 2
}
